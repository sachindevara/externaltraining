{
 "cells": [
  {
   "cell_type": "code",
   "execution_count": null,
   "id": "f72549e3",
   "metadata": {},
   "outputs": [],
   "source": [
    "#Sort The Array\n",
    "class Solution:\n",
    "    def sortArr(self, arr, n): \n",
    "        #code here\n",
    "        arr.sort()\n",
    "        return arr"
   ]
  },
  {
   "cell_type": "code",
   "execution_count": null,
   "id": "0aacd622",
   "metadata": {},
   "outputs": [],
   "source": [
    "#Reverse a String\n",
    "def reverseWord(s):\n",
    "    #your code here\n",
    "    \n",
    "    return s[::-1]"
   ]
  },
  {
   "cell_type": "code",
   "execution_count": null,
   "id": "b74ce940",
   "metadata": {},
   "outputs": [],
   "source": [
    "#detect loop in linked list\n",
    "class Solution:\n",
    "    #Function to check if the linked list has a loop.\n",
    "    def detectLoop(self, head):\n",
    "        #code here\n",
    "        x,y=head,head\n",
    "        while y and y.next:\n",
    "            x=x.next\n",
    "            y=y.next.next\n",
    "            if x==y:\n",
    "                return True\n",
    "        return False"
   ]
  }
 ],
 "metadata": {
  "kernelspec": {
   "display_name": "Python 3 (ipykernel)",
   "language": "python",
   "name": "python3"
  },
  "language_info": {
   "codemirror_mode": {
    "name": "ipython",
    "version": 3
   },
   "file_extension": ".py",
   "mimetype": "text/x-python",
   "name": "python",
   "nbconvert_exporter": "python",
   "pygments_lexer": "ipython3",
   "version": "3.10.6"
  }
 },
 "nbformat": 4,
 "nbformat_minor": 5
}
