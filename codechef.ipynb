{
 "cells": [
  {
   "cell_type": "code",
   "execution_count": null,
   "metadata": {},
   "outputs": [],
   "source": [
    "#start82 find_x\n",
    "\n",
    "for i in range(int(input())):\n",
    "    a,b,c,d=map(int,input().split())\n",
    "    if (a+1)%b==(c+1)%d:\n",
    "        print(1)\n",
    "    else:\n",
    "        def compute_gcd(b, d):\n",
    "            while(d):\n",
    "                b, d = d, b % d\n",
    "            return b\n",
    "\n",
    "        def compute_lcm(b, d):\n",
    "            lcm = (b*d)//compute_gcd(b,d)\n",
    "            return lcm\n",
    "        v = compute_lcm(b, d)\n",
    "        print(v- (a % b))\n",
    "\n",
    "            "
   ]
  },
  {
   "cell_type": "code",
   "execution_count": null,
   "metadata": {},
   "outputs": [],
   "source": [
    "#CHEFEREN\n",
    "for i in range(int(input())):\n",
    "    n,a,b=map(int,input().split())\n",
    "    e=0\n",
    "    o=0\n",
    "    for i in range(1,n+1):\n",
    "        if i%2==0:\n",
    "            e+=1\n",
    "        else:\n",
    "            o+=1\n",
    "    print(e*a+o*b) \n"
   ]
  },
  {
   "cell_type": "code",
   "execution_count": null,
   "metadata": {},
   "outputs": [],
   "source": [
    "#start83 budtech\n",
    "for i in range(int(input())):\n",
    "    a=int(input())\n",
    "    k=(a*1000)//2\n",
    "    print(k//5)"
   ]
  },
  {
   "cell_type": "code",
   "execution_count": null,
   "metadata": {},
   "outputs": [],
   "source": [
    "#start83 cougame\n",
    "for i in range(int(input())):\n",
    "    a,b=map(int,input().split())\n",
    "    print(b-a)\n"
   ]
  },
  {
   "cell_type": "code",
   "execution_count": null,
   "metadata": {},
   "outputs": [],
   "source": [
    "#start82 OPMIN\n",
    "for i in range(int(input())):\n",
    "    n=int(input())\n",
    "    l=list(map(int,input().split()))\n",
    "    c=0\n",
    "    for i in range(len(l)):\n",
    "        if l[i]>min(l):\n",
    "            c+=1 \n",
    "    print(c)"
   ]
  },
  {
   "cell_type": "code",
   "execution_count": null,
   "metadata": {},
   "outputs": [],
   "source": [
    "#start 82 REACH_HOME\n",
    "for i in range(int(input())):\n",
    "    x,y=map(int,input().split())\n",
    "    if x*5>=y:\n",
    "        print(\"yes\")\n",
    "    else:\n",
    "        print(\"No\")\n"
   ]
  },
  {
   "cell_type": "code",
   "execution_count": null,
   "metadata": {},
   "outputs": [],
   "source": [
    "#start81 MAXCAP\n",
    "for i in range(int(input())):\n",
    "    a,b=map(int,input().split())\n",
    "    if a*b<=500 and a <=8:\n",
    "        print(\"Yes\")\n",
    "    else:\n",
    "        print(\"No\")"
   ]
  },
  {
   "cell_type": "code",
   "execution_count": null,
   "metadata": {},
   "outputs": [],
   "source": [
    "#start81 sunnyday\n",
    "for i in range(int(input())):\n",
    "    x=int(input())\n",
    "    if x>24:\n",
    "        print(\"yes\")\n",
    "    else:\n",
    "        print(\"no\")"
   ]
  },
  {
   "cell_type": "code",
   "execution_count": null,
   "metadata": {},
   "outputs": [],
   "source": [
    "#start79 splitordec\n",
    "for i in range(int(input())):\n",
    "    n=int(input())\n",
    "    l=list(map(int,input().split()))\n",
    "    n1,n2=0,0\n",
    "    for i in l:\n",
    "        if i==1:\n",
    "            n1^=1 \n",
    "        elif i%2==0:\n",
    "            n2^=1\n",
    "    if n1==1 or n2==1:\n",
    "        print(\"chef\")\n",
    "    else:\n",
    "        print(\"chefina\")\n",
    "    "
   ]
  },
  {
   "cell_type": "code",
   "execution_count": null,
   "metadata": {},
   "outputs": [],
   "source": [
    "#start78D passing marks\n",
    "for i in range(int(input())):\n",
    "    n,x=map(int,input().split())\n",
    "    l=list(map(int,input().split()))\n",
    "    l.sort()\n",
    "    print(l[n-x]-1)\n",
    "    "
   ]
  },
  {
   "cell_type": "code",
   "execution_count": null,
   "metadata": {},
   "outputs": [],
   "source": [
    "#start77 Tekken\n",
    "for i in range(int(input())):\n",
    "    a,b,c=map(int,input().split())\n",
    "    k=abs(b-c)\n",
    "    if a>k:\n",
    "        print(\"yes\")\n",
    "    else:\n",
    "        print(\"no\")"
   ]
  },
  {
   "cell_type": "code",
   "execution_count": null,
   "metadata": {},
   "outputs": [],
   "source": [
    "#start77 airlines\n",
    "for i in range(int(input())):\n",
    "    x,y,z=map(int,input().split())\n",
    "    if x*10<=y:\n",
    "        print(x*10*z)\n",
    "    else:\n",
    "        print(y*z)"
   ]
  },
  {
   "cell_type": "code",
   "execution_count": null,
   "metadata": {},
   "outputs": [],
   "source": [
    "#start77 Jerrychase\n",
    "for i in range(int(input())):\n",
    "    x,y=map(int,input().split())\n",
    "    if x<y:\n",
    "        print(\"yes\")\n",
    "    else:\n",
    "        print(\"no\")"
   ]
  },
  {
   "cell_type": "code",
   "execution_count": null,
   "metadata": {},
   "outputs": [],
   "source": [
    "#LID122\n",
    "a = [\"Mountain\",\"Valley\",\"River\",\"Sky\"]\n",
    "b = [3,7,22,1,43]\n",
    "b.sort(reverse = True)\n",
    "a.sort(reverse = True)\n",
    "print(a)\n",
    "print(b)"
   ]
  }
 ],
 "metadata": {
  "kernelspec": {
   "display_name": "Python 3 (ipykernel)",
   "language": "python",
   "name": "python3"
  },
  "language_info": {
   "codemirror_mode": {
    "name": "ipython",
    "version": 3
   },
   "file_extension": ".py",
   "mimetype": "text/x-python",
   "name": "python",
   "nbconvert_exporter": "python",
   "pygments_lexer": "ipython3",
   "version": "3.10.6"
  }
 },
 "nbformat": 4,
 "nbformat_minor": 4
}
