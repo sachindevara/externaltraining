{
 "cells": [
  {
   "cell_type": "code",
   "execution_count": 51,
   "metadata": {},
   "outputs": [
    {
     "name": "stdout",
     "output_type": "stream",
     "text": [
      "Epoch 1/50\n",
      "1875/1875 [==============================] - 19s 10ms/step - loss: 0.2220 - accuracy: 0.9337\n",
      "Epoch 2/50\n",
      "1875/1875 [==============================] - 19s 10ms/step - loss: 0.0858 - accuracy: 0.9730\n",
      "Epoch 3/50\n",
      "1875/1875 [==============================] - 19s 10ms/step - loss: 0.0558 - accuracy: 0.9820\n",
      "Epoch 4/50\n",
      "1875/1875 [==============================] - 22s 12ms/step - loss: 0.0413 - accuracy: 0.9864\n",
      "Epoch 5/50\n",
      "1875/1875 [==============================] - 24s 13ms/step - loss: 0.0312 - accuracy: 0.9896\n",
      "Epoch 6/50\n",
      "1875/1875 [==============================] - 22s 12ms/step - loss: 0.0240 - accuracy: 0.9920\n",
      "Epoch 7/50\n",
      "1875/1875 [==============================] - 20s 11ms/step - loss: 0.0223 - accuracy: 0.9924\n",
      "Epoch 8/50\n",
      "1875/1875 [==============================] - 20s 11ms/step - loss: 0.0178 - accuracy: 0.9940\n",
      "Epoch 9/50\n",
      "1875/1875 [==============================] - 20s 11ms/step - loss: 0.0171 - accuracy: 0.9944\n",
      "Epoch 10/50\n",
      "1875/1875 [==============================] - 19s 10ms/step - loss: 0.0134 - accuracy: 0.9955\n",
      "Epoch 11/50\n",
      "1875/1875 [==============================] - 60s 32ms/step - loss: 0.0142 - accuracy: 0.9956\n",
      "Epoch 12/50\n",
      "1875/1875 [==============================] - 20s 11ms/step - loss: 0.0118 - accuracy: 0.9966\n",
      "Epoch 13/50\n",
      "1875/1875 [==============================] - 20s 11ms/step - loss: 0.0134 - accuracy: 0.9963\n",
      "Epoch 14/50\n",
      "1875/1875 [==============================] - 23s 12ms/step - loss: 0.0129 - accuracy: 0.9962\n",
      "Epoch 15/50\n",
      "1875/1875 [==============================] - 20s 11ms/step - loss: 0.0091 - accuracy: 0.9973\n",
      "Epoch 16/50\n",
      "1875/1875 [==============================] - 20s 11ms/step - loss: 0.0109 - accuracy: 0.9970\n",
      "Epoch 17/50\n",
      "1875/1875 [==============================] - 20s 11ms/step - loss: 0.0092 - accuracy: 0.9970\n",
      "Epoch 18/50\n",
      "1875/1875 [==============================] - 20s 11ms/step - loss: 0.0085 - accuracy: 0.9974\n",
      "Epoch 19/50\n",
      "1875/1875 [==============================] - 20s 11ms/step - loss: 0.0089 - accuracy: 0.9973\n",
      "Epoch 20/50\n",
      "1875/1875 [==============================] - 20s 11ms/step - loss: 0.0100 - accuracy: 0.9974\n",
      "Epoch 21/50\n",
      "1875/1875 [==============================] - 20s 10ms/step - loss: 0.0068 - accuracy: 0.9981\n",
      "Epoch 22/50\n",
      "1875/1875 [==============================] - 19s 10ms/step - loss: 0.0101 - accuracy: 0.9974\n",
      "Epoch 23/50\n",
      "1875/1875 [==============================] - 20s 11ms/step - loss: 0.0090 - accuracy: 0.9975\n",
      "Epoch 24/50\n",
      "1875/1875 [==============================] - 20s 11ms/step - loss: 0.0073 - accuracy: 0.9981\n",
      "Epoch 25/50\n",
      "1875/1875 [==============================] - 24s 13ms/step - loss: 0.0093 - accuracy: 0.9976\n",
      "Epoch 26/50\n",
      "1875/1875 [==============================] - 30s 16ms/step - loss: 0.0067 - accuracy: 0.9984\n",
      "Epoch 27/50\n",
      "1875/1875 [==============================] - 30s 16ms/step - loss: 0.0063 - accuracy: 0.9984\n",
      "Epoch 28/50\n",
      "1875/1875 [==============================] - 30s 16ms/step - loss: 0.0086 - accuracy: 0.9979\n",
      "Epoch 29/50\n",
      "1875/1875 [==============================] - 29s 16ms/step - loss: 0.0073 - accuracy: 0.9979\n",
      "Epoch 30/50\n",
      "1875/1875 [==============================] - 29s 16ms/step - loss: 0.0063 - accuracy: 0.9983\n",
      "Epoch 31/50\n",
      "1875/1875 [==============================] - 29s 16ms/step - loss: 0.0055 - accuracy: 0.9984\n",
      "Epoch 32/50\n",
      "1875/1875 [==============================] - 29s 16ms/step - loss: 0.0069 - accuracy: 0.9985\n",
      "Epoch 33/50\n",
      "1875/1875 [==============================] - 29s 16ms/step - loss: 0.0041 - accuracy: 0.9992\n",
      "Epoch 34/50\n",
      "1875/1875 [==============================] - 28s 15ms/step - loss: 0.0091 - accuracy: 0.9980\n",
      "Epoch 35/50\n",
      "1875/1875 [==============================] - 26s 14ms/step - loss: 0.0064 - accuracy: 0.9983\n",
      "Epoch 36/50\n",
      "1875/1875 [==============================] - 28s 15ms/step - loss: 0.0068 - accuracy: 0.9987\n",
      "Epoch 37/50\n",
      "1875/1875 [==============================] - 29s 15ms/step - loss: 0.0050 - accuracy: 0.9987\n",
      "Epoch 38/50\n",
      "1875/1875 [==============================] - 29s 15ms/step - loss: 0.0069 - accuracy: 0.9985\n",
      "Epoch 39/50\n",
      "1875/1875 [==============================] - 29s 15ms/step - loss: 0.0084 - accuracy: 0.9983\n",
      "Epoch 40/50\n",
      "1875/1875 [==============================] - 29s 16ms/step - loss: 0.0048 - accuracy: 0.9988\n",
      "Epoch 41/50\n",
      "1875/1875 [==============================] - 29s 16ms/step - loss: 0.0077 - accuracy: 0.9982\n",
      "Epoch 42/50\n",
      "1875/1875 [==============================] - 28s 15ms/step - loss: 0.0078 - accuracy: 0.9986\n",
      "Epoch 43/50\n",
      "1875/1875 [==============================] - 28s 15ms/step - loss: 0.0054 - accuracy: 0.9988\n",
      "Epoch 44/50\n",
      "1875/1875 [==============================] - 29s 15ms/step - loss: 0.0044 - accuracy: 0.9990\n",
      "Epoch 45/50\n",
      "1875/1875 [==============================] - 29s 15ms/step - loss: 0.0070 - accuracy: 0.9987\n",
      "Epoch 46/50\n",
      "1875/1875 [==============================] - 28s 15ms/step - loss: 0.0050 - accuracy: 0.9988\n",
      "Epoch 47/50\n",
      "1875/1875 [==============================] - 30s 16ms/step - loss: 0.0044 - accuracy: 0.9988\n",
      "Epoch 48/50\n",
      "1875/1875 [==============================] - 29s 16ms/step - loss: 0.0054 - accuracy: 0.9988\n",
      "Epoch 49/50\n",
      "1875/1875 [==============================] - 30s 16ms/step - loss: 0.0045 - accuracy: 0.9989\n",
      "Epoch 50/50\n",
      "1875/1875 [==============================] - 29s 15ms/step - loss: 0.0074 - accuracy: 0.9985\n"
     ]
    },
    {
     "data": {
      "text/plain": [
       "<keras.callbacks.History at 0x2837fd61810>"
      ]
     },
     "execution_count": 51,
     "metadata": {},
     "output_type": "execute_result"
    }
   ],
   "source": [
    "import tensorflow as tf\n",
    "\n",
    "mnist = tf.keras.datasets.mnist\n",
    "(x_train,y_train),(x_test,y_test)=mnist.load_data()\n",
    "\n",
    "x_train=tf.keras.utils.normalize(x_train,axis=1)\n",
    "x_test=tf.keras.utils.normalize(x_test ,axis=1)\n",
    "\n",
    "model=tf.keras.models.Sequential()\n",
    "model.add(tf.keras.layers.Flatten())\n",
    "model.add(tf.keras.layers.Dense(512,activation=tf.nn.relu))\n",
    "model.add(tf.keras.layers.Dense(512,activation=tf.nn.relu))\n",
    "model.add(tf.keras.layers.Dense(100,activation=tf.nn.softmax))\n",
    "model.compile(optimizer='adam',loss='sparse_categorical_crossentropy',metrics=['accuracy'])\n",
    "model.fit(x_train,y_train,epochs=50)"
   ]
  },
  {
   "cell_type": "code",
   "execution_count": 52,
   "metadata": {},
   "outputs": [
    {
     "name": "stdout",
     "output_type": "stream",
     "text": [
      "313/313 [==============================] - 2s 5ms/step - loss: 0.2487 - accuracy: 0.9803\n",
      "0.24871926009655 0.9803000092506409\n"
     ]
    }
   ],
   "source": [
    "val_loss,val_acc=model.evaluate(x_test,y_test)\n",
    "print(val_loss,val_acc)"
   ]
  },
  {
   "cell_type": "code",
   "execution_count": 67,
   "metadata": {},
   "outputs": [
    {
     "data": {
      "image/png": "[encoded data removed]",
      "text/plain": [
       "<Figure size 640x480 with 1 Axes>"
      ]
     },
     "metadata": {},
     "output_type": "display_data"
    },
    {
     "name": "stdout",
     "output_type": "stream",
     "text": [
      "[[0.         0.         0.         0.         0.         0.\n",
      "  0.         0.         0.         0.         0.         0.\n",
      "  0.         0.         0.         0.         0.         0.\n",
      "  0.         0.         0.         0.         0.         0.\n",
      "  0.         0.         0.         0.        ]\n",
      " [0.         0.         0.         0.         0.         0.\n",
      "  0.         0.         0.         0.         0.         0.\n",
      "  0.         0.         0.         0.         0.         0.\n",
      "  0.         0.         0.         0.         0.         0.\n",
      "  0.         0.         0.         0.        ]\n",
      " [0.         0.         0.         0.         0.         0.\n",
      "  0.         0.         0.         0.         0.         0.\n",
      "  0.         0.         0.         0.         0.         0.\n",
      "  0.         0.         0.         0.         0.         0.\n",
      "  0.         0.         0.         0.        ]\n",
      " [0.         0.         0.         0.         0.         0.\n",
      "  0.         0.         0.         0.         0.         0.\n",
      "  0.         0.         0.         0.         0.         0.\n",
      "  0.         0.         0.         0.         0.         0.\n",
      "  0.         0.         0.         0.        ]\n",
      " [0.         0.         0.         0.         0.         0.\n",
      "  0.         0.         0.         0.         0.         0.\n",
      "  0.         0.         0.         0.         0.         0.\n",
      "  0.         0.         0.         0.         0.         0.\n",
      "  0.         0.         0.         0.        ]\n",
      " [0.         0.         0.         0.         0.         0.\n",
      "  0.         0.         0.         0.         0.         0.\n",
      "  0.         0.         0.         0.         0.         0.\n",
      "  0.2249006  0.51284814 0.57894171 0.58191321 0.         0.\n",
      "  0.         0.         0.         0.        ]\n",
      " [0.         0.         0.         0.         0.         0.\n",
      "  0.         0.         0.         0.         0.         0.\n",
      "  0.         0.         0.         0.         0.         0.18162512\n",
      "  0.44254634 0.508794   0.57440099 0.57267649 0.         0.\n",
      "  0.         0.         0.         0.        ]\n",
      " [0.         0.         0.         0.         0.         0.\n",
      "  0.         0.         0.         0.         0.         0.\n",
      "  0.         0.         0.         0.         0.         0.2402749\n",
      "  0.45524234 0.508794   0.57440099 0.57267649 0.         0.\n",
      "  0.         0.         0.         0.        ]\n",
      " [0.         0.         0.         0.         0.         0.\n",
      "  0.         0.         0.         0.         0.         0.\n",
      "  0.         0.         0.         0.         0.12827814 0.44649508\n",
      "  0.45524234 0.42771129 0.07038115 0.07389374 0.         0.\n",
      "  0.         0.         0.         0.        ]\n",
      " [0.         0.         0.         0.         0.         0.\n",
      "  0.         0.         0.         0.         0.         0.\n",
      "  0.         0.         0.         0.11264691 0.43010907 0.47487401\n",
      "  0.45524234 0.19054437 0.         0.         0.         0.\n",
      "  0.         0.         0.         0.        ]\n",
      " [0.         0.         0.         0.         0.         0.\n",
      "  0.         0.         0.         0.         0.         0.\n",
      "  0.         0.         0.         0.29100452 0.47727015 0.47865786\n",
      "  0.34279204 0.         0.         0.         0.         0.\n",
      "  0.         0.         0.         0.        ]\n",
      " [0.         0.         0.         0.         0.         0.\n",
      "  0.         0.         0.         0.         0.         0.\n",
      "  0.         0.         0.03507342 0.47499447 0.47349726 0.44460315\n",
      "  0.11970516 0.         0.         0.         0.         0.\n",
      "  0.         0.         0.         0.        ]\n",
      " [0.         0.         0.         0.         0.         0.\n",
      "  0.         0.         0.         0.         0.         0.\n",
      "  0.         0.05777143 0.35950254 0.47499447 0.47349726 0.23838297\n",
      "  0.         0.         0.         0.         0.         0.\n",
      "  0.         0.         0.         0.        ]\n",
      " [0.         0.         0.         0.         0.         0.\n",
      "  0.         0.         0.         0.         0.         0.\n",
      "  0.         0.18775714 0.4401714  0.47499447 0.34710556 0.02837892\n",
      "  0.         0.         0.         0.         0.         0.\n",
      "  0.         0.         0.         0.        ]\n",
      " [0.         0.         0.         0.         0.         0.\n",
      "  0.         0.         0.         0.         0.         0.\n",
      "  0.12554956 0.43328571 0.4401714  0.36234756 0.0433882  0.\n",
      "  0.         0.         0.         0.         0.         0.\n",
      "  0.         0.         0.         0.        ]\n",
      " [0.         0.         0.         0.         0.         0.\n",
      "  0.         0.         0.         0.         0.         0.04673221\n",
      "  0.39705049 0.45675535 0.44367875 0.29851431 0.         0.\n",
      "  0.         0.         0.         0.         0.         0.\n",
      "  0.         0.         0.         0.        ]\n",
      " [0.         0.         0.         0.         0.         0.\n",
      "  0.         0.         0.         0.         0.         0.22051763\n",
      "  0.39391175 0.45314464 0.4401714  0.07322049 0.         0.\n",
      "  0.         0.         0.         0.         0.         0.\n",
      "  0.         0.         0.         0.        ]\n",
      " [0.         0.         0.         0.         0.         0.\n",
      "  0.         0.         0.         0.         0.07218821 0.32274434\n",
      "  0.39391175 0.45314464 0.3016314  0.         0.         0.\n",
      "  0.         0.         0.         0.         0.         0.\n",
      "  0.         0.         0.         0.        ]\n",
      " [0.         0.         0.         0.         0.         0.\n",
      "  0.         0.         0.         0.         0.3519175  0.36655579\n",
      "  0.39391175 0.35384999 0.02104405 0.         0.         0.\n",
      "  0.         0.         0.         0.         0.         0.\n",
      "  0.         0.         0.         0.        ]\n",
      " [0.         0.         0.         0.         0.         0.\n",
      "  0.         0.         0.         0.         0.380492   0.36655579\n",
      "  0.39391175 0.16067678 0.         0.         0.         0.\n",
      "  0.         0.         0.         0.         0.         0.\n",
      "  0.         0.         0.         0.        ]\n",
      " [0.         0.         0.         0.         0.         0.\n",
      "  0.         0.         0.         0.32420905 0.38349984 0.36947656\n",
      "  0.39705049 0.05596607 0.         0.         0.         0.\n",
      "  0.         0.         0.         0.         0.         0.\n",
      "  0.         0.         0.         0.        ]\n",
      " [0.         0.         0.         0.         0.         0.\n",
      "  0.         0.         0.45617155 0.46490355 0.380492   0.36071427\n",
      "  0.21971173 0.01444286 0.         0.         0.         0.\n",
      "  0.         0.         0.         0.         0.         0.\n",
      "  0.         0.         0.         0.        ]\n",
      " [0.         0.         0.         0.         0.         0.\n",
      "  0.         0.         0.60822874 0.51180171 0.380492   0.32128396\n",
      "  0.         0.         0.         0.         0.         0.\n",
      "  0.         0.         0.         0.         0.         0.\n",
      "  0.         0.         0.         0.        ]\n",
      " [0.         0.         0.         0.         0.         0.\n",
      "  0.         0.         0.60822874 0.51180171 0.380492   0.32128396\n",
      "  0.         0.         0.         0.         0.         0.\n",
      "  0.         0.         0.         0.         0.         0.\n",
      "  0.         0.         0.         0.        ]\n",
      " [0.         0.         0.         0.         0.         0.\n",
      "  0.         0.         0.22808578 0.39353678 0.380492   0.32128396\n",
      "  0.         0.         0.         0.         0.         0.\n",
      "  0.         0.         0.         0.         0.         0.\n",
      "  0.         0.         0.         0.        ]\n",
      " [0.         0.         0.         0.         0.         0.\n",
      "  0.         0.         0.         0.         0.         0.\n",
      "  0.         0.         0.         0.         0.         0.\n",
      "  0.         0.         0.         0.         0.         0.\n",
      "  0.         0.         0.         0.        ]\n",
      " [0.         0.         0.         0.         0.         0.\n",
      "  0.         0.         0.         0.         0.         0.\n",
      "  0.         0.         0.         0.         0.         0.\n",
      "  0.         0.         0.         0.         0.         0.\n",
      "  0.         0.         0.         0.        ]\n",
      " [0.         0.         0.         0.         0.         0.\n",
      "  0.         0.         0.         0.         0.         0.\n",
      "  0.         0.         0.         0.         0.         0.\n",
      "  0.         0.         0.         0.         0.         0.\n",
      "  0.         0.         0.         0.        ]]\n"
     ]
    }
   ],
   "source": [
    "import matplotlib.pyplot as plt\n",
    "plt.imshow(x_train[3],cmap=plt.cm.binary )\n",
    "plt.show()\n",
    "print(x_train[3])\n"
   ]
  },
  {
   "cell_type": "code",
   "execution_count": 60,
   "metadata": {},
   "outputs": [
    {
     "name": "stderr",
     "output_type": "stream",
     "text": [
      "WARNING:absl:Found untraced functions such as _update_step_xla while saving (showing 1 of 1). These functions will not be directly callable after loading.\n"
     ]
    },
    {
     "name": "stdout",
     "output_type": "stream",
     "text": [
      "INFO:tensorflow:Assets written to: epic_num_reader.model\\assets\n"
     ]
    },
    {
     "name": "stderr",
     "output_type": "stream",
     "text": [
      "INFO:tensorflow:Assets written to: epic_num_reader.model\\assets\n"
     ]
    },
    {
     "name": "stdout",
     "output_type": "stream",
     "text": [
      "313/313 [==============================] - 2s 5ms/step\n",
      "[[0.0000000e+00 1.5128085e-36 8.5132747e-33 ... 0.0000000e+00\n",
      "  0.0000000e+00 0.0000000e+00]\n",
      " [0.0000000e+00 8.2742390e-24 1.0000000e+00 ... 0.0000000e+00\n",
      "  0.0000000e+00 0.0000000e+00]\n",
      " [0.0000000e+00 1.0000000e+00 0.0000000e+00 ... 0.0000000e+00\n",
      "  0.0000000e+00 0.0000000e+00]\n",
      " ...\n",
      " [5.8467603e-31 1.8981459e-21 4.2300686e-31 ... 5.8929901e-34\n",
      "  4.7010264e-34 1.8680853e-34]\n",
      " [0.0000000e+00 0.0000000e+00 0.0000000e+00 ... 0.0000000e+00\n",
      "  0.0000000e+00 0.0000000e+00]\n",
      " [1.6659267e-34 0.0000000e+00 2.3189784e-35 ... 0.0000000e+00\n",
      "  0.0000000e+00 0.0000000e+00]]\n"
     ]
    }
   ],
   "source": [
    "model.save('epic_num_reader.model')\n",
    "new_model=tf.keras.models.load_model('epic_num_reader.model')\n",
    "predictions=new_model.predict([x_test ])\n",
    "print(predictions)"
   ]
  },
  {
   "cell_type": "code",
   "execution_count": 64,
   "metadata": {},
   "outputs": [
    {
     "name": "stdout",
     "output_type": "stream",
     "text": [
      "1\n"
     ]
    }
   ],
   "source": [
    "import numpy as np\n",
    "print(np.argmax(predictions[3]))"
   ]
  },
  {
   "cell_type": "code",
   "execution_count": 65,
   "metadata": {
    "scrolled": true
   },
   "outputs": [
    {
     "data": {
      "image/png": "[encoded data removed]",
      "text/plain": [
       "<Figure size 640x480 with 1 Axes>"
      ]
     },
     "metadata": {},
     "output_type": "display_data"
    }
   ],
   "source": [
    "plt.imshow(x_test[3])\n",
    "plt.show()"
   ]
  },
  {
   "cell_type": "code",
   "execution_count": null,
   "metadata": {},
   "outputs": [],
   "source": []
  }
 ],
 "metadata": {
  "kernelspec": {
   "display_name": "Python 3 (ipykernel)",
   "language": "python",
   "name": "python3"
  },
  "language_info": {
   "codemirror_mode": {
    "name": "ipython",
    "version": 3
   },
   "file_extension": ".py",
   "mimetype": "text/x-python",
   "name": "python",
   "nbconvert_exporter": "python",
   "pygments_lexer": "ipython3",
   "version": "3.10.6"
  }
 },
 "nbformat": 4,
 "nbformat_minor": 4
}
