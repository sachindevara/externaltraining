{
 "cells": [
  {
   "cell_type": "code",
   "execution_count": null,
   "metadata": {},
   "outputs": [],
   "source": [
    "n = int(input(\"Enter number of students: \"))\n",
    "students_marks = {}\n",
    "for i in range(n):\n",
    "    print(\"Enter name and score in different subjects: \")\n",
    "    name,*line = input().split()\n",
    "    scores = list(map(float,line))\n",
    "    student_marks[name] = scores\n",
    "print(student_marks)\n",
    "std_name = input(\"Enter the name of the student: \")\n",
    "l = student_marks[std_name]\n",
    "print(l)\n",
    "s= sum(l)/len(l)\n",
    "print('%.2f'%s)"
   ]
  },
  {
   "cell_type": "code",
   "execution_count": 5,
   "metadata": {},
   "outputs": [
    {
     "name": "stdout",
     "output_type": "stream",
     "text": [
      "Enter number of rows to print: 8\n",
      "0  \n",
      "1 2  \n",
      "3 4 5  \n",
      "6 7 8 9  \n",
      "10 11 12 13 14  \n",
      "15 16 17 18 19 20  \n",
      "21 22 23 24 25 26 27  \n",
      "28 29 30 31 32 33 34 35  \n"
     ]
    }
   ],
   "source": [
    "start = 0\n",
    "rows = int(input(\"Enter number of rows to print: \"))\n",
    "stop = 2\n",
    "for i in range(rows):\n",
    "    for j in range(1,stop):\n",
    "        print(start,end=' ')\n",
    "        start+=1\n",
    "    print(\" \")\n",
    "    stop+=1"
   ]
  },
  {
   "cell_type": "code",
   "execution_count": 6,
   "metadata": {},
   "outputs": [
    {
     "name": "stdout",
     "output_type": "stream",
     "text": [
      "Enter number of rows to print: 9\n",
      " \n",
      "1  \n",
      "2 2  \n",
      "3 3 3  \n",
      "4 4 4 4  \n",
      "5 5 5 5 5  \n",
      "6 6 6 6 6 6  \n",
      "7 7 7 7 7 7 7  \n",
      "8 8 8 8 8 8 8 8  \n",
      "9 9 9 9 9 9 9 9 9  \n"
     ]
    }
   ],
   "source": [
    "rows = int(input(\"Enter number of rows to print: \"))\n",
    "for num in range(rows+1):\n",
    "    for i in range(num):\n",
    "        print(num,end=' ')\n",
    "    print(' ')"
   ]
  },
  {
   "cell_type": "code",
   "execution_count": null,
   "metadata": {},
   "outputs": [],
   "source": []
  }
 ],
 "metadata": {
  "kernelspec": {
   "display_name": "Python 3 (ipykernel)",
   "language": "python",
   "name": "python3"
  },
  "language_info": {
   "codemirror_mode": {
    "name": "ipython",
    "version": 3
   },
   "file_extension": ".py",
   "mimetype": "text/x-python",
   "name": "python",
   "nbconvert_exporter": "python",
   "pygments_lexer": "ipython3",
   "version": "3.10.6"
  }
 },
 "nbformat": 4,
 "nbformat_minor": 4
}
